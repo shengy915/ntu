{
 "cells": [
  {
   "cell_type": "markdown",
   "metadata": {},
   "source": [
    "## Laboratory Manual for SC1003 - Introduction to Computational Thinking and Programming\n",
    "\n",
    "### Practical Exercise #8: Decomposition\n",
    "\n",
    "##### Learning Objectives\n",
    "- Analyse a problem and decompose into sub-problems\n",
    "- Develop a simple application using decomposition techniques\n",
    "\n",
    "##### Equipment and accessories required\n",
    "- PC/notebook with python and jupyter notebook\n",
    "\n",
    "---\n",
    "\n",
    "### 1) Decomposition\n",
    "Decomposition is the process of breaking down a complex problem into smaller manageable parts (subproblems). Each subproblem can then be examined or solved individually, as they are simpler to work with. Decomposition is also known as Divide and Conquer.\n",
    "\n",
    "In this exercise, are you given a brief specification for a program, to do list app. Your task is to understand the specification, design, and then implement the application. By completing this exercise, you will learn how to analyse a problem given, decompose the problem, and implement the program. \n",
    "\n",
    "While this simple program can be implemented/generated easily with any GenAI tools i.e. chatgpt, its important to for you to understand that the objectives of this exercise is not just implementing the program, but its to provide you an opportunity to practice computational thinking skill, that is the decomposition technique, and of course learn how to document your thought and plans using Jupyter Notebook. \n",
    "\n",
    "Do take this good opportunity to practice decomposition skill in solving this exercise, so that you can solve a more complex problem which typically cannot be solved by GenAI tools. You are also given the opportunity to document down your steps and rational while implementing the program using Jupyter Notebook.\n",
    "<br><br>\n",
    "\n",
    "### 2) Problem Specification - To Do List Application\n",
    "**Project Overview:** Develop a simple, user-friendly To-Do List application that allows users to manage their tasks efficiently. The application should enable users to add, view, edit, delete, load, and save tasks. Additionally, users should be able to mark tasks as completed and filter tasks based on their status.\n",
    "\n",
    "**User Stories:**\n",
    "- As a user, I want to add new tasks to my to-do list so that I can keep track of things I need to do.\n",
    "- As a user, I want to view all my tasks in a list so that I can see what needs to be done.\n",
    "- As a user, I want to edit existing tasks so that I can update their details if needed.\n",
    "- As a user, I want to delete tasks that are no longer relevant so that my list stays current.\n",
    "- As a user, I want to mark tasks as completed so that I can see which tasks I have finished.\n",
    "- As a user, I want to filter tasks by their status (e.g., all, completed, pending) so that I can focus on specific tasks.\n",
    "- As a user, I want the program to save my task list on the go into a text file, so I can load it back when I reopen the program at the later time.\n",
    "\n",
    "\n",
    "**Functional Requirements:**\n",
    "- Add new tasks with a title and optional description.\n",
    "- Display a list of all tasks.\n",
    "- Edit the details of existing tasks.\n",
    "- Delete tasks from the list.\n",
    "- Mark tasks as completed or pending.\n",
    "- Filter tasks based on their status (all, completed, pending).\n",
    "- Save and load task list.\n",
    "\n",
    "\n",
    "**Non-Functional Requirements:**\n",
    "- The application should be intuitive and easy to use. (No GUI Needed, console with a few options will do)\n",
    "- The application should provide immediate feedback to the user for actions performed (e.g., task added, task deleted).\n",
    "- The application should handle errors gracefully, such as invalid input or actions on non-existent tasks.\n",
    "- The application should be responsive and perform well with a large number of tasks.\n",
    "- The application should be able to keep the to do list on local machine for later use\n",
    "<br><br>\n",
    "\n",
    "### 3) Your Mission\n",
    "1) Analyse the requirements\n",
    "2) Document down your decomposition and plan\n",
    "3) Implement your program and reflect (document) how you have decomposed the problem into sub problems\n",
    "4) Elaborate how did you test the individual components and the application holistically\n",
    "\n",
    "**Hints:**  \n",
    "- If happen that your program caught into endless loop, look for and press the \"interupt\" button on top of the Jupyter Notebook and then press \"enter\". \"Restart\" the kernel if needed. \n",
    "- use `from IPython.display import clear_output` to clear / refresh your notebook output. https://stackoverflow.com/questions/24816237/ipython-notebook-clear-cell-output-in-code"
   ]
  },
  {
   "cell_type": "code",
   "execution_count": 1,
   "metadata": {},
   "outputs": [],
   "source": [
    "### LEAVE THIS CELL EMPTY\n",
    "### Start editing the following cells, add additional cell (code/markdown) as needed"
   ]
  },
  {
   "cell_type": "markdown",
   "metadata": {},
   "source": [
    "### Understanding the Requirement:\n",
    "Explain what do you understand about this requrirements below:  \n",
    "...\n"
   ]
  },
  {
   "cell_type": "markdown",
   "metadata": {},
   "source": [
    "### Decomposition & Planning:\n",
    "What is your plan and how do you decompose the problem into sub problems  \n",
    "..."
   ]
  },
  {
   "cell_type": "markdown",
   "metadata": {},
   "source": [
    "### < Your Subsequent Steps & Codes >\n"
   ]
  },
  {
   "cell_type": "markdown",
   "metadata": {},
   "source": [
    "### Implement the main logic\n",
    "Now that the basic building blocks (data structure & functions) are constructed, its time to implement the main program logic as follow:"
   ]
  },
  {
   "cell_type": "code",
   "execution_count": null,
   "metadata": {},
   "outputs": [],
   "source": [
    "from IPython.display import clear_output\n",
    "\n",
    "mytasklist = []\n",
    "\n",
    "while True:\n",
    "    print(\"\\nTo-Do List Application\")\n",
    "    print(\"1. Add Task\")\n",
    "    print(\"2. View Tasks\")\n",
    "    print(\"3. Edit Task\")\n",
    "    print(\"4. Delete Task\")\n",
    "    print(\"5. Mark Task as Completed\")\n",
    "    print(\"6. Filter Tasks\")\n",
    "    print(\"7. Load Tasks\")\n",
    "    print(\"8. Exit\")\n",
    "\n",
    "    choice = input(\"Enter your choice: \")\n",
    "    clear_output(wait=True)\n",
    "\n",
    "    ## Your Main Program Logic Start Here"
   ]
  }
 ],
 "metadata": {
  "kernelspec": {
   "display_name": ".venv",
   "language": "python",
   "name": "python3"
  },
  "language_info": {
   "codemirror_mode": {
    "name": "ipython",
    "version": 3
   },
   "file_extension": ".py",
   "mimetype": "text/x-python",
   "name": "python",
   "nbconvert_exporter": "python",
   "pygments_lexer": "ipython3",
   "version": "3.12.6"
  }
 },
 "nbformat": 4,
 "nbformat_minor": 2
}
