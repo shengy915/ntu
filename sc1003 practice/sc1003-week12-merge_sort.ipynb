{
 "cells": [
  {
   "cell_type": "markdown",
   "metadata": {},
   "source": [
    "## Laboratory Manual for SC1003 - Introduction to Computational Thinking and Programming\n",
    "\n",
    "### Practical Exercise #10: Merge Sort\n",
    "\n",
    "##### Learning Objectives\n",
    "- Learn how to implement the merge sort algorithm to sort a list of dictionaries based on a specific key.\n",
    "\n",
    "##### Equipment and accessories required\n",
    "- PC/notebook with python and jupyter notebook\n",
    "\n",
    "##### Pre-requisites\n",
    "- Basic understanding of Python and Dictionary\n",
    "- Familiarity with sorting algorithms, particularly merge sort.\n",
    "\n",
    "---\n",
    "\n",
    "### Merge Sort\n",
    "The **Merge Sort** algorithm is a divide-and-conquer algorithm that sorts an array by first breaking it down into smaller arrays, and then building the array back together the correct way so that it is sorted. In essence, A problem is repeatedly broken up into sub-problems, often using **recursion**, until they are small enough to be solved. The solutions are then combined to solve the larger problem. [1]\n",
    "\n",
    "In the exercise, you will implement a custom merge sorting algorithm to sort a list of dictionaries. These dictionaries represent a person with key-value pairs such as the person `name` and person `age`. Your `mergesort` algorithm should take in a list of dictionaries, `persons`, and also a `key` that specify which attribute the merge sort algorithm should use to perform the sorting operation. A sample of the list are shown below:\n",
    "\n",
    "```python\n",
    "persons = [\n",
    "    {\"name\": \"bob\", \"age\": 15},\n",
    "    {\"name\": \"alice\", \"age\": 12},\n",
    "    {\"name\": \"dave\", \"age\": 13},\n",
    "    {\"name\": \"carol\", \"age\": 10},\n",
    "    ... <you may add more>\n",
    "]\n",
    "```\n",
    "\n",
    "To begin, revisit the LAMS sequence or lecture slide on Week 12 to understand the merge sort algorithm. Try to reproduce the code with simple list of numbers first, and test it out. Then modify the algorithm to customise the function to sort the list of dictionaries (persons). If you face some challenges in understanding the the general merge sort algorithm, you may refer the hackerearth's algorithm visualizer tool [2] on merge sort algorithm.\n",
    "\n",
    "Please proceed and continue to work on your mini-project once you have completed this lab exercise. This is the last lab for this course.\n",
    "\n",
    "\n",
    "##### References:\n",
    "[1] NTU Learn, \"Week 12 - Algorithm Implementation: Sorting in Python\".  \n",
    "[2] HackerEarth, \"Merge Sort\". \\<https://www.hackerearth.com/practice/algorithms/sorting/merge-sort/visualize/\\>  \n",
    "\n",
    "---"
   ]
  },
  {
   "cell_type": "markdown",
   "metadata": {},
   "source": [
    "#### To Do:\n",
    "##### Implement Merge Sort\n",
    "1) Define a function `merge_sort(data, key)` that takes a list of dictionaries and a key to sort by.\n",
    "2) Implement the merge sort algorithm:\n",
    "    - **Base Case**: If the list has one or zero elements, it is already sorted.\n",
    "    - **Recursive Case**: Split the list into two halves, recursively sort each half, and merge the sorted halves.\n",
    "3) Define a helper function `merge(left, right, key)` to merge two sorted lists."
   ]
  },
  {
   "cell_type": "code",
   "execution_count": 9,
   "metadata": {},
   "outputs": [],
   "source": [
    "\"\"\"\n",
    "Sorts a list of dictionaries based on a specified key using the merge sort algorithm.\n",
    "\n",
    "Parameters:\n",
    "data (list): A list of dictionaries to be sorted.\n",
    "key (str): The key in the dictionaries to sort by.\n",
    "\n",
    "Returns:\n",
    "list: A new list of dictionaries sorted by the specified key.\n",
    "\"\"\"\n",
    "def merge_sort(data, key):\n",
    "    def splitting(data, key):\n",
    "        length = len(data)\n",
    "        if length == 1:\n",
    "            return data\n",
    "        else:\n",
    "            half = length//2\n",
    "            left = splitting(data[:half],key)\n",
    "            right = splitting(data[half:],key)\n",
    "            result = merge(left,right,key)\n",
    "            return result\n",
    "    return splitting(data,key)\n",
    "\n",
    "\"\"\"\n",
    "Merges two sorted lists of dictionaries into a single sorted list.\n",
    "\n",
    "Parameters:\n",
    "left (list): The first sorted list of dictionaries.\n",
    "right (list): The second sorted list of dictionaries.\n",
    "key (str): The key in the dictionaries to sort by.\n",
    "\n",
    "Returns:\n",
    "list: A merged and sorted list of dictionaries.\n",
    "\"\"\"\n",
    "def merge(left, right, key):\n",
    "    length = len(left)+ len(right)\n",
    "    result =[]\n",
    "    for i in range(length):\n",
    "        if left[0][key] <= right[0][key]:\n",
    "            result.append(left[0])\n",
    "            left.pop(0)\n",
    "        else:\n",
    "            result.append(right[0])\n",
    "            right.pop(0)\n",
    "        if not left:\n",
    "            for i in right:\n",
    "                result.append(i)\n",
    "            break\n",
    "        elif not right:\n",
    "            for i in left:\n",
    "                result.append(i)\n",
    "            break    \n",
    "    return result\n",
    "\n",
    "\n",
    "            "
   ]
  },
  {
   "cell_type": "markdown",
   "metadata": {},
   "source": [
    "##### Test Simple Merge Program"
   ]
  },
  {
   "cell_type": "code",
   "execution_count": null,
   "metadata": {},
   "outputs": [],
   "source": [
    "## Test your simple mergesort function here\n"
   ]
  },
  {
   "cell_type": "markdown",
   "metadata": {},
   "source": [
    "##### Main Program"
   ]
  },
  {
   "cell_type": "code",
   "execution_count": 10,
   "metadata": {},
   "outputs": [
    {
     "name": "stdout",
     "output_type": "stream",
     "text": [
      "[1] Name: carol   \tAge: 10\n",
      "[2] Name: alice   \tAge: 12\n",
      "[3] Name: dave   \tAge: 13\n",
      "[4] Name: bob   \tAge: 15\n"
     ]
    }
   ],
   "source": [
    "persons = [\n",
    "    {\"name\": \"bob\", \"age\": 15},\n",
    "    {\"name\": \"alice\", \"age\": 12},\n",
    "    {\"name\": \"dave\", \"age\": 13},\n",
    "    {\"name\": \"carol\", \"age\": 10},\n",
    "]\n",
    "\n",
    "sorted_data = merge_sort(persons, \"age\")\n",
    "for index, person in enumerate(sorted_data):\n",
    "    print(f\"[{index+1}] Name: {person['name']}   \\tAge: {person['age']}\")\n"
   ]
  }
 ],
 "metadata": {
  "kernelspec": {
   "display_name": "Python 3",
   "language": "python",
   "name": "python3"
  },
  "language_info": {
   "codemirror_mode": {
    "name": "ipython",
    "version": 3
   },
   "file_extension": ".py",
   "mimetype": "text/x-python",
   "name": "python",
   "nbconvert_exporter": "python",
   "pygments_lexer": "ipython3",
   "version": "3.10.12"
  }
 },
 "nbformat": 4,
 "nbformat_minor": 2
}
